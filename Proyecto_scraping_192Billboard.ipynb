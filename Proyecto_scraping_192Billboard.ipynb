{
 "cells": [
  {
   "cell_type": "code",
   "execution_count": 1,
   "id": "9ac88010",
   "metadata": {},
   "outputs": [],
   "source": [
    "from bs4 import BeautifulSoup\n",
    "import pandas as pd\n",
    "import requests\n",
    "import time\n"
   ]
  },
  {
   "cell_type": "code",
   "execution_count": 2,
   "id": "7e0170aa",
   "metadata": {},
   "outputs": [],
   "source": [
    "url='https://www.billboard.com/charts/year-end/top-billboard-200-albums'\n",
    "html=requests.get(url)\n",
    "soup=BeautifulSoup(html.content,'lxml')\n"
   ]
  },
  {
   "cell_type": "code",
   "execution_count": 3,
   "id": "26bd1a23",
   "metadata": {},
   "outputs": [],
   "source": [
    "links=soup.select('div[class=\"ye-chart-item__artist\"]>a')\n",
    "clean_links=[str(i).split('href=\"')[1].split('\">')[0] for i in links]\n",
    "linksstart='https://www.billboard.com'\n",
    "links=[linksstart+i for i in clean_links]\n",
    "hits_no1=[]\n",
    "hits_top10=[]\n",
    "hits_top100=[]\n"
   ]
  },
  {
   "cell_type": "code",
   "execution_count": 4,
   "id": "c05a7da8",
   "metadata": {},
   "outputs": [],
   "source": [
    "for i in links:\n",
    "    time.sleep(2)\n",
    "    html=requests.get(i)\n",
    "    soup=BeautifulSoup(html.content,'lxml')\n",
    "    info=soup.select('ul[class=\"chart-history__titles__hits\"]>li>span')\n",
    "    info_clean=[]\n",
    "    info_clean=[i.text for i in info]\n",
    "    hits_no1.append(info_clean[0])\n",
    "    hits_top10.append(info_clean[1])\n",
    "    hits_top100.append(info_clean[2])\n"
   ]
  },
  {
   "cell_type": "code",
   "execution_count": 29,
   "id": "0a77bf92",
   "metadata": {},
   "outputs": [],
   "source": [
    "url='https://www.billboard.com/charts/year-end/top-billboard-200-albums'\n",
    "html=requests.get(url)\n",
    "soup=BeautifulSoup(html.content,'lxml')"
   ]
  },
  {
   "cell_type": "code",
   "execution_count": 51,
   "id": "84322a50",
   "metadata": {},
   "outputs": [],
   "source": [
    "Numero=soup.select('div[class=\"ye-chart-item__rank\"]')"
   ]
  },
  {
   "cell_type": "code",
   "execution_count": 32,
   "id": "cedeee19",
   "metadata": {},
   "outputs": [],
   "source": [
    "Numero_clean=[i.text.strip() for i in Numero]"
   ]
  },
  {
   "cell_type": "code",
   "execution_count": 33,
   "id": "00d0b9cf",
   "metadata": {},
   "outputs": [],
   "source": [
    "Album=soup.select ('div[class=\"ye-chart-item__text\"]>div[class=\"ye-chart-item__title\"]')"
   ]
  },
  {
   "cell_type": "code",
   "execution_count": 34,
   "id": "b4802929",
   "metadata": {},
   "outputs": [],
   "source": [
    "Album_clean= [i.text.strip() for i in Album]"
   ]
  },
  {
   "cell_type": "code",
   "execution_count": 35,
   "id": "79b38dd5",
   "metadata": {},
   "outputs": [],
   "source": [
    "artist=soup.select('div[class=\"ye-chart-item__text\"]>div[class=\"ye-chart-item__artist\"]')\n",
    "clean_artist=[i.text.strip() for i in artist]"
   ]
  },
  {
   "cell_type": "code",
   "execution_count": 44,
   "id": "2cb2da78",
   "metadata": {},
   "outputs": [],
   "source": [
    "tabla=[]\n",
    "tabla=pd.DataFrame(tabla)\n",
    "tabla[\"Posicion\"]=Numero_clean\n",
    "tabla[\"Album\"]=Album_clean\n",
    "tabla[\"Nombre del artista\"]=clean_artist\n",
    "#tabla[\"Numero de canciones de primer lugar\"]=hits_no1\n",
    "#tabla[\"Numero de canciones en el top 10\"]=hits_top10\n",
    "#tabla[\"Numero de canciones en el top 100\"]=hits_top100"
   ]
  },
  {
   "cell_type": "code",
   "execution_count": 45,
   "id": "76e9f467",
   "metadata": {},
   "outputs": [],
   "source": [
    "tabla2=tabla.drop([39,60,63,99,134,137,155,190])"
   ]
  },
  {
   "cell_type": "code",
   "execution_count": 48,
   "id": "a68b230f",
   "metadata": {},
   "outputs": [],
   "source": [
    "tabla2[\"Numero de canciones de primer lugar\"]=hits_no1\n",
    "tabla2[\"Numero de canciones en el top 10\"]=hits_top10\n",
    "tabla2[\"Numero de canciones en el top 100\"]=hits_top100"
   ]
  },
  {
   "cell_type": "code",
   "execution_count": 49,
   "id": "250c8f9d",
   "metadata": {},
   "outputs": [
    {
     "data": {
      "text/html": [
       "<div>\n",
       "<style scoped>\n",
       "    .dataframe tbody tr th:only-of-type {\n",
       "        vertical-align: middle;\n",
       "    }\n",
       "\n",
       "    .dataframe tbody tr th {\n",
       "        vertical-align: top;\n",
       "    }\n",
       "\n",
       "    .dataframe thead th {\n",
       "        text-align: right;\n",
       "    }\n",
       "</style>\n",
       "<table border=\"1\" class=\"dataframe\">\n",
       "  <thead>\n",
       "    <tr style=\"text-align: right;\">\n",
       "      <th></th>\n",
       "      <th>Posicion</th>\n",
       "      <th>Album</th>\n",
       "      <th>Nombre del artista</th>\n",
       "      <th>Numero de canciones de primer lugar</th>\n",
       "      <th>Numero de canciones en el top 10</th>\n",
       "      <th>Numero de canciones en el top 100</th>\n",
       "    </tr>\n",
       "  </thead>\n",
       "  <tbody>\n",
       "    <tr>\n",
       "      <th>0</th>\n",
       "      <td>1</td>\n",
       "      <td>Hollywood's Bleeding</td>\n",
       "      <td>Post Malone</td>\n",
       "      <td>0</td>\n",
       "      <td>0</td>\n",
       "      <td>8</td>\n",
       "    </tr>\n",
       "    <tr>\n",
       "      <th>1</th>\n",
       "      <td>2</td>\n",
       "      <td>My Turn</td>\n",
       "      <td>Lil Baby</td>\n",
       "      <td>0</td>\n",
       "      <td>4</td>\n",
       "      <td>33</td>\n",
       "    </tr>\n",
       "    <tr>\n",
       "      <th>2</th>\n",
       "      <td>3</td>\n",
       "      <td>Please Excuse Me For Being Antisocial</td>\n",
       "      <td>Roddy Ricch</td>\n",
       "      <td>0</td>\n",
       "      <td>1</td>\n",
       "      <td>6</td>\n",
       "    </tr>\n",
       "    <tr>\n",
       "      <th>3</th>\n",
       "      <td>4</td>\n",
       "      <td>Fine Line</td>\n",
       "      <td>Harry Styles</td>\n",
       "      <td>0</td>\n",
       "      <td>1</td>\n",
       "      <td>4</td>\n",
       "    </tr>\n",
       "    <tr>\n",
       "      <th>4</th>\n",
       "      <td>5</td>\n",
       "      <td>Folklore</td>\n",
       "      <td>Taylor Swift</td>\n",
       "      <td>2</td>\n",
       "      <td>18</td>\n",
       "      <td>26</td>\n",
       "    </tr>\n",
       "    <tr>\n",
       "      <th>...</th>\n",
       "      <td>...</td>\n",
       "      <td>...</td>\n",
       "      <td>...</td>\n",
       "      <td>...</td>\n",
       "      <td>...</td>\n",
       "      <td>...</td>\n",
       "    </tr>\n",
       "    <tr>\n",
       "      <th>195</th>\n",
       "      <td>196</td>\n",
       "      <td>Wildcard</td>\n",
       "      <td>Miranda Lambert</td>\n",
       "      <td>0</td>\n",
       "      <td>0</td>\n",
       "      <td>1</td>\n",
       "    </tr>\n",
       "    <tr>\n",
       "      <th>196</th>\n",
       "      <td>197</td>\n",
       "      <td>JESUS IS KING (Soundtrack)</td>\n",
       "      <td>Kanye West</td>\n",
       "      <td>0</td>\n",
       "      <td>3</td>\n",
       "      <td>25</td>\n",
       "    </tr>\n",
       "    <tr>\n",
       "      <th>197</th>\n",
       "      <td>198</td>\n",
       "      <td>A Charlie Brown Christmas (Soundtrack)</td>\n",
       "      <td>Vince Guaraldi Trio</td>\n",
       "      <td>0</td>\n",
       "      <td>0</td>\n",
       "      <td>1</td>\n",
       "    </tr>\n",
       "    <tr>\n",
       "      <th>198</th>\n",
       "      <td>199</td>\n",
       "      <td>Ordinary Man</td>\n",
       "      <td>Ozzy Osbourne</td>\n",
       "      <td>0</td>\n",
       "      <td>0</td>\n",
       "      <td>1</td>\n",
       "    </tr>\n",
       "    <tr>\n",
       "      <th>199</th>\n",
       "      <td>200</td>\n",
       "      <td>NCT #127: Neo Zone, The 2nd Album</td>\n",
       "      <td>NCT 127</td>\n",
       "      <td>0</td>\n",
       "      <td>1</td>\n",
       "      <td>3</td>\n",
       "    </tr>\n",
       "  </tbody>\n",
       "</table>\n",
       "<p>192 rows × 6 columns</p>\n",
       "</div>"
      ],
      "text/plain": [
       "    Posicion                                   Album   Nombre del artista  \\\n",
       "0          1                    Hollywood's Bleeding          Post Malone   \n",
       "1          2                                 My Turn             Lil Baby   \n",
       "2          3   Please Excuse Me For Being Antisocial          Roddy Ricch   \n",
       "3          4                               Fine Line         Harry Styles   \n",
       "4          5                                Folklore         Taylor Swift   \n",
       "..       ...                                     ...                  ...   \n",
       "195      196                                Wildcard      Miranda Lambert   \n",
       "196      197              JESUS IS KING (Soundtrack)           Kanye West   \n",
       "197      198  A Charlie Brown Christmas (Soundtrack)  Vince Guaraldi Trio   \n",
       "198      199                            Ordinary Man        Ozzy Osbourne   \n",
       "199      200       NCT #127: Neo Zone, The 2nd Album              NCT 127   \n",
       "\n",
       "    Numero de canciones de primer lugar Numero de canciones en el top 10  \\\n",
       "0                                     0                                0   \n",
       "1                                     0                                4   \n",
       "2                                     0                                1   \n",
       "3                                     0                                1   \n",
       "4                                     2                               18   \n",
       "..                                  ...                              ...   \n",
       "195                                   0                                0   \n",
       "196                                   0                                3   \n",
       "197                                   0                                0   \n",
       "198                                   0                                0   \n",
       "199                                   0                                1   \n",
       "\n",
       "    Numero de canciones en el top 100  \n",
       "0                                   8  \n",
       "1                                  33  \n",
       "2                                   6  \n",
       "3                                   4  \n",
       "4                                  26  \n",
       "..                                ...  \n",
       "195                                 1  \n",
       "196                                25  \n",
       "197                                 1  \n",
       "198                                 1  \n",
       "199                                 3  \n",
       "\n",
       "[192 rows x 6 columns]"
      ]
     },
     "execution_count": 49,
     "metadata": {},
     "output_type": "execute_result"
    }
   ],
   "source": [
    "tabla2"
   ]
  },
  {
   "cell_type": "code",
   "execution_count": 50,
   "id": "45aa30b4",
   "metadata": {},
   "outputs": [],
   "source": [
    "tabla2.to_csv('top_albums_2020',index=False,sep=',')"
   ]
  }
 ],
 "metadata": {
  "kernelspec": {
   "display_name": "Python 3",
   "language": "python",
   "name": "python3"
  },
  "language_info": {
   "codemirror_mode": {
    "name": "ipython",
    "version": 3
   },
   "file_extension": ".py",
   "mimetype": "text/x-python",
   "name": "python",
   "nbconvert_exporter": "python",
   "pygments_lexer": "ipython3",
   "version": "3.8.8"
  }
 },
 "nbformat": 4,
 "nbformat_minor": 5
}
